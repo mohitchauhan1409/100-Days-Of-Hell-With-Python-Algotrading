{
 "cells": [
  {
   "cell_type": "markdown",
   "metadata": {},
   "source": [
    "1.Write a Python print statement that shows a message saying, \"Starting the trading session.\""
   ]
  },
  {
   "cell_type": "code",
   "execution_count": 2,
   "metadata": {},
   "outputs": [
    {
     "name": "stdout",
     "output_type": "stream",
     "text": [
      "Starting the trading session\n"
     ]
    }
   ],
   "source": [
    "#Write your code here\n",
    "print(\"Starting the trading session\")"
   ]
  },
  {
   "cell_type": "markdown",
   "metadata": {},
   "source": [
    "2.Create a variable stock_price that stores the current price of a stock as a floating-point number."
   ]
  },
  {
   "cell_type": "code",
   "execution_count": 5,
   "metadata": {},
   "outputs": [
    {
     "name": "stdout",
     "output_type": "stream",
     "text": [
      "200.24\n",
      "<class 'float'>\n"
     ]
    }
   ],
   "source": [
    "#Write your code here\n",
    "stock_price = 200.24\n",
    "print(stock_price)\n",
    "print(type(stock_price))"
   ]
  },
  {
   "cell_type": "markdown",
   "metadata": {},
   "source": [
    "3.Assign the symbol AAPL to a variable named stock_symbol."
   ]
  },
  {
   "cell_type": "code",
   "execution_count": 6,
   "metadata": {},
   "outputs": [
    {
     "name": "stdout",
     "output_type": "stream",
     "text": [
      "AAPL\n"
     ]
    }
   ],
   "source": [
    "#Write your code here\n",
    "stock_symbol = \"AAPL\"\n",
    "print(stock_symbol)"
   ]
  },
  {
   "cell_type": "markdown",
   "metadata": {},
   "source": [
    "4.Add a comment explaining that the following code will initialize a trading balance variable with 10000."
   ]
  },
  {
   "cell_type": "code",
   "execution_count": 8,
   "metadata": {},
   "outputs": [],
   "source": [
    "#Write your code here\n",
    "#this code is used to initialise a trading balance variable with 10000"
   ]
  },
  {
   "cell_type": "markdown",
   "metadata": {},
   "source": [
    "5.Identify and fix the syntax error in the following code snippet:\n",
    "   total_return = final_price - initial_price\n",
    "   print(total_return)"
   ]
  },
  {
   "cell_type": "code",
   "execution_count": 9,
   "metadata": {},
   "outputs": [
    {
     "name": "stdout",
     "output_type": "stream",
     "text": [
      "100\n"
     ]
    }
   ],
   "source": [
    "#Write your code here\n",
    "initial_price = 200\n",
    "final_price = 300\n",
    "total_return = int(final_price) - int(initial_price)\n",
    "print(total_return)"
   ]
  },
  {
   "cell_type": "markdown",
   "metadata": {},
   "source": [
    "6.Write a program that asks the user for the quantity of a stock to buy and prints \"Buying X shares,\" where X is the input quantity."
   ]
  },
  {
   "cell_type": "code",
   "execution_count": 13,
   "metadata": {},
   "outputs": [
    {
     "name": "stdout",
     "output_type": "stream",
     "text": [
      "Buying 200 Shares\n"
     ]
    }
   ],
   "source": [
    "#Write your code here\n",
    "X = input(\"Enter quantity of stock you want to buy \")\n",
    "print(\"Buying\", X ,\"Shares\")"
   ]
  },
  {
   "cell_type": "markdown",
   "metadata": {},
   "source": [
    "7.Convert a string variable price_str holding the value \"89.50\" into a floating-point number."
   ]
  },
  {
   "cell_type": "code",
   "execution_count": 14,
   "metadata": {},
   "outputs": [
    {
     "name": "stdout",
     "output_type": "stream",
     "text": [
      "<class 'float'>\n"
     ]
    }
   ],
   "source": [
    "#Write your code here\n",
    "price_str = \"89.05\"\n",
    "price = float(price_str)\n",
    "print(type(price))"
   ]
  },
  {
   "cell_type": "markdown",
   "metadata": {},
   "source": [
    "8.Define a list literal containing the stock symbols \"AAPL\", \"TSLA\", and \"GOOGL\"."
   ]
  },
  {
   "cell_type": "code",
   "execution_count": 15,
   "metadata": {},
   "outputs": [
    {
     "name": "stdout",
     "output_type": "stream",
     "text": [
      "['AAPL', 'TSLA', 'GOOGLE']\n"
     ]
    }
   ],
   "source": [
    "#Write your code here\n",
    "list = [\"AAPL\", \"TSLA\", \"GOOGLE\"]\n",
    "print(list)"
   ]
  },
  {
   "cell_type": "markdown",
   "metadata": {},
   "source": [
    "9.Write a print statement that outputs \"Stock XYZ is trading at $PRICE\", where XYZ is a variable symbol, and PRICE is a floating-point variable price."
   ]
  },
  {
   "cell_type": "code",
   "execution_count": 18,
   "metadata": {},
   "outputs": [
    {
     "name": "stdout",
     "output_type": "stream",
     "text": [
      "Stock hero is trading at $ 400.0\n"
     ]
    }
   ],
   "source": [
    "#Write your code here\n",
    "stock_name = input(\"Enter stock name\")\n",
    "stock_price = float(input(\"Enter stock price\"))\n",
    "print(\"Stock\", stock_name, \"is trading at\", \"$\",stock_price)"
   ]
  },
  {
   "cell_type": "markdown",
   "metadata": {},
   "source": [
    "10.Write a Python Program print_trade_summary(symbol, quantity, price) that accepts a stock symbol, the number of shares, and the price per share. It should print out a formatted summary of the total trade cost."
   ]
  },
  {
   "cell_type": "code",
   "execution_count": 21,
   "metadata": {},
   "outputs": [],
   "source": [
    "#Write your code here\n",
    "def print_trade_summary(symbol, quantity, price):\n",
    "    print(\"You bought {38} {yu} at ${300} each.\")\n"
   ]
  },
  {
   "cell_type": "markdown",
   "metadata": {},
   "source": [
    "**11.** Calculate the Daily Return on Investment (ROI)\n",
    "\n",
    "**Objective:** Prompt the user to enter the purchase price and the selling price of a stock, and calculate the ROI.\n"
   ]
  },
  {
   "cell_type": "code",
   "execution_count": 22,
   "metadata": {},
   "outputs": [
    {
     "name": "stdout",
     "output_type": "stream",
     "text": [
      "100\n"
     ]
    }
   ],
   "source": [
    "#Write your code here\n",
    "purchase_price = int(input(\"Enter purchase price of stock\"))\n",
    "selling_price = int(input(\"Enter selling price of stock\"))\n",
    "ROI = selling_price - purchase_price\n",
    "print(ROI)"
   ]
  },
  {
   "cell_type": "markdown",
   "metadata": {},
   "source": [
    "**12.** Determine the Average Price from User Inputs\n",
    "\n",
    "**Objective:** Ask the user to input three different prices of a stock throughout the day and compute the average.\n"
   ]
  },
  {
   "cell_type": "code",
   "execution_count": 23,
   "metadata": {},
   "outputs": [
    {
     "name": "stdout",
     "output_type": "stream",
     "text": [
      "400.0\n"
     ]
    }
   ],
   "source": [
    "#Write your code here\n",
    "stock1_price = int(input(\"Enter stock1 price\"))\n",
    "stock2_price = int(input(\"Enter stock2 price\"))\n",
    "stock3_price = int(input(\"Enter stock3 price\"))\n",
    "average_stock = (stock1_price + stock2_price + stock3_price) / 3\n",
    "print(average_stock)\n"
   ]
  },
  {
   "cell_type": "markdown",
   "metadata": {},
   "source": []
  },
  {
   "cell_type": "markdown",
   "metadata": {},
   "source": [
    "**13.** Compare Two Stock Prices\n",
    "\n",
    "**Objective:** Ask the user for the prices of two stocks and print which one is higher.\n",
    "\n"
   ]
  },
  {
   "cell_type": "code",
   "execution_count": 24,
   "metadata": {},
   "outputs": [
    {
     "name": "stdout",
     "output_type": "stream",
     "text": [
      "You are in profit\n"
     ]
    }
   ],
   "source": [
    "#Write your code here\n",
    "purchase_price = int(input(\"Enter purchase price of stock\"))\n",
    "selling_price = int(input(\"Enter selling price of stock\"))\n",
    "if purchase_price > selling_price:\n",
    "    print(\"You are in loss\")\n",
    "else:\n",
    "    print(\"You are in profit\")"
   ]
  },
  {
   "cell_type": "markdown",
   "metadata": {},
   "source": [
    "**14.** Break-Even Price Calculator\n",
    "\n",
    "**Objective:** Calculate the break-even price after buying a stock and spending money on fees.\n",
    "\n",
    "\n"
   ]
  },
  {
   "cell_type": "code",
   "execution_count": null,
   "metadata": {},
   "outputs": [],
   "source": [
    "#Write your code here"
   ]
  },
  {
   "cell_type": "markdown",
   "metadata": {},
   "source": [
    "**15.** Display Stock Price Change\n",
    "\n",
    "**Objective:** Ask the user to enter yesterday's and today's stock prices, then print the change in price.\n",
    "\n",
    "\n"
   ]
  },
  {
   "cell_type": "code",
   "execution_count": 25,
   "metadata": {},
   "outputs": [
    {
     "name": "stdout",
     "output_type": "stream",
     "text": [
      "price is decressed by 100\n"
     ]
    }
   ],
   "source": [
    "#Write your code here\n",
    "yesterday_price = int(input(\"Enter yesterday price of stock\"))\n",
    "today_price = int(input(\"Enter today price of stock\"))\n",
    "if yesterday_price > today_price:\n",
    "    print(\"price is decressed by\", yesterday_price - today_price)\n",
    "else:\n",
    "    print(\"price is increased by\", today_price - yesterday_price)\n"
   ]
  },
  {
   "cell_type": "markdown",
   "metadata": {},
   "source": [
    "**16.** Calculate Required Margin\n",
    "\n",
    "**Objective:** Calculate the required margin for a trade based on user inputs for trade size and margin rate.\n",
    "\n"
   ]
  },
  {
   "cell_type": "code",
   "execution_count": 28,
   "metadata": {},
   "outputs": [
    {
     "name": "stdout",
     "output_type": "stream",
     "text": [
      "Your require margin is 1499.8500000000001\n"
     ]
    }
   ],
   "source": [
    "#Write your code here\n",
    "trade_size = int(input(\"Enter trade size of stock\"))\n",
    "margin_rate = int(input(\"Enter margin rate for a trade\"))\n",
    "required_margin = trade_size * (margin_rate/100)\n",
    "print(\"Your required margin is\", required_margin)"
   ]
  },
  {
   "cell_type": "markdown",
   "metadata": {},
   "source": [
    "**17.** Convert Currency from User Input\n",
    "\n",
    "**Objective:** Ask the user for an amount in USD and a conversion rate, then convert it to another currency.\n",
    "\n",
    "\n"
   ]
  },
  {
   "cell_type": "code",
   "execution_count": 29,
   "metadata": {},
   "outputs": [
    {
     "name": "stdout",
     "output_type": "stream",
     "text": [
      "Your rupees is USD 250.74\n"
     ]
    }
   ],
   "source": [
    "#Write your code here\n",
    "currency_size = int(input(\"Enter rupees\"))\n",
    "usd_currency = currency_size*83.58\n",
    "print(\"Your rupees is USD\", usd_currency)\n"
   ]
  },
  {
   "cell_type": "markdown",
   "metadata": {},
   "source": [
    "**18.** Calculate the Weighted Average Price\n",
    "\n",
    "**Objective:** Calculate the weighted average price based on user inputs for different prices and their respective weights.\n",
    "\n",
    "\n"
   ]
  },
  {
   "cell_type": "code",
   "execution_count": 30,
   "metadata": {},
   "outputs": [
    {
     "name": "stdout",
     "output_type": "stream",
     "text": [
      "899.5\n"
     ]
    }
   ],
   "source": [
    "#Write your code here\n",
    "stock1_weight = int(input(\"Enter stock1 weight\"))\n",
    "stock2_weight = int(input(\"Enter stock2 weight\"))\n",
    "stock3_weight = int(input(\"Enter stock3 weight\"))\n",
    "average_weight = (stock1_weight + stock2_weight + stock3_weight) / 3\n",
    "print(average_weight)"
   ]
  },
  {
   "cell_type": "markdown",
   "metadata": {},
   "source": [
    "**19.** User Input to Adjust Stock Quantity\n",
    "\n",
    "**Objective:** Prompt the user for the current number of stocks, how many to buy, and how many to sell, then calculate the new total.\n",
    "\n",
    "\n",
    "\n"
   ]
  },
  {
   "cell_type": "code",
   "execution_count": 31,
   "metadata": {},
   "outputs": [
    {
     "name": "stdout",
     "output_type": "stream",
     "text": [
      "210\n"
     ]
    }
   ],
   "source": [
    "#Write your code here\n",
    "current_stock = int(input(\"Enter your current number of stock\"))\n",
    "buy_stock = int(input(\"Enter number of stock to buy\"))\n",
    "sell_stock = int(input(\"Enter number of stock to sell\"))\n",
    "stock_quantity = (current_stock+buy_stock) - sell_stock\n",
    "print(stock_quantity)"
   ]
  },
  {
   "cell_type": "markdown",
   "metadata": {},
   "source": [
    "### Python Mini Project 1 :\n",
    "\n",
    "Scenario: Stock Data Entry and Analysis Tool\n",
    "\n",
    "**Objective:**\n",
    "Create a Python script that  will involve taking manual input for stock prices over a week and will calculate the average price. It should also demonstrate variable declaration, user input, and basic arithmetic using Python types.\n",
    "\n"
   ]
  }
 ],
 "metadata": {
  "kernelspec": {
   "display_name": "base",
   "language": "python",
   "name": "python3"
  },
  "language_info": {
   "codemirror_mode": {
    "name": "ipython",
    "version": 3
   },
   "file_extension": ".py",
   "mimetype": "text/x-python",
   "name": "python",
   "nbconvert_exporter": "python",
   "pygments_lexer": "ipython3",
   "version": "3.12.4"
  }
 },
 "nbformat": 4,
 "nbformat_minor": 2
}
